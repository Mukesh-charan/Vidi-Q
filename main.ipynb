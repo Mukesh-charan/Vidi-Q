{
 "cells": [
  {
   "cell_type": "code",
   "execution_count": 1,
   "id": "f88e91b6",
   "metadata": {},
   "outputs": [
    {
     "data": {
      "text/plain": [
       "True"
      ]
     },
     "execution_count": 1,
     "metadata": {},
     "output_type": "execute_result"
    }
   ],
   "source": [
    "from openai import OpenAI\n",
    "from dotenv import load_dotenv\n",
    "import os\n",
    "from IPython.display import Markdown, display\n",
    "\n",
    "load_dotenv(override=True)"
   ]
  },
  {
   "cell_type": "code",
   "execution_count": 3,
   "id": "f825d8f9",
   "metadata": {},
   "outputs": [],
   "source": [
    "openrouter_api_key = os.getenv(\"OPENROUTER_API_KEY\")\n",
    "openrouter_base_url = os.getenv(\"OPENROUTER_BASE_URL\")\n",
    "deepseek_model_name = os.getenv(\"DEEPSEEK_MODEL_NAME\")"
   ]
  },
  {
   "cell_type": "code",
   "execution_count": 5,
   "id": "69fac2ad",
   "metadata": {},
   "outputs": [],
   "source": [
    "manim_agent_system_prompt = \"\"\"\n",
    "You are a professional python manim code writer your task is to get the user's prompt and\n",
    "generate the manim code for the topic the user wants to learn, your manim script is perfect in\n",
    "such a way that the animations, visualizations and simulations and teachings will be understood \n",
    "even for a layman who watches it.\n",
    "Note: The manim script when converted to video must take 1 to 2 minutes of duration and ensure the video must be super easy for anyone to be engaged and understand the topic\n",
    "additionally also add inline comments for the expected time to complete for each animations\n",
    "and the manim script must not contain any errors at all!\n",
    "the output format of your manim code must be like no markdown syntax for wrapping the code or no explanation at all only the code must be the output!\n",
    "\n",
    "[your manim script here...]\n",
    "\"\"\"\n",
    "\n",
    "manim_agent = OpenAI(api_key=openrouter_api_key, base_url=openrouter_base_url)"
   ]
  },
  {
   "cell_type": "code",
   "execution_count": 25,
   "id": "870310b0",
   "metadata": {},
   "outputs": [],
   "source": [
    "content = \"derive the formula for area of triangle\"\n",
    "\n",
    "response = manim_agent.chat.completions.create(\n",
    "    messages=[\n",
    "        {'role': 'system', 'content': manim_agent_system_prompt},\n",
    "        {'role': 'user', 'content': content}\n",
    "    ],\n",
    "    model=deepseek_model_name\n",
    ")"
   ]
  },
  {
   "cell_type": "code",
   "execution_count": 27,
   "id": "492d39c9",
   "metadata": {},
   "outputs": [
    {
     "name": "stdout",
     "output_type": "stream",
     "text": [
      "```python\n",
      "from manim import *\n",
      "\n",
      "class TriangleArea(Scene):\n",
      "    def construct(self):\n",
      "        # Title (3 seconds)\n",
      "        title = Text(\"Area of a Triangle\", font_size=48)\n",
      "        self.play(Write(title), run_time=1.5)\n",
      "        self.wait(1.5)\n",
      "        self.play(FadeOut(title))\n",
      "\n",
      "        # Create triangle and labels (10 seconds)\n",
      "        triangle = Polygon(\n",
      "            LEFT * 2, RIGHT * 2, \n",
      "            RIGHT * 1 + UP * 3, \n",
      "            color=BLUE, fill_opacity=0.5\n",
      "        )\n",
      "        base_line = Line(LEFT * 2, RIGHT * 2, color=YELLOW)\n",
      "        height_line = DashedLine(RIGHT * 1, RIGHT * 1 + UP * 3, color=RED)\n",
      "        base_label = Tex(\"b\", font_size=36).next_to(base_line, DOWN)\n",
      "        height_label = Tex(\"h\", font_size=36).next_to(height_line, RIGHT)\n",
      "\n",
      "        self.play(Create(triangle), run_time=3)\n",
      "        self.play(\n",
      "            Create(base_line),\n",
      "            Write(base_label),\n",
      "            run_time=1.5\n",
      "        )\n",
      "        self.play(\n",
      "            Create(height_line),\n",
      "            Write(height_label),\n",
      "            run_time=1.5\n",
      "        )\n",
      "        self.wait(4)\n",
      "\n",
      "        # Duplicate to form parallelogram (15 seconds)\n",
      "        triangle_copy = triangle.copy()\n",
      "        flip_group = Group(triangle, triangle_copy)\n",
      "        self.add(triangle_copy)\n",
      "        \n",
      "        self.play(\n",
      "            Rotate(triangle_copy, PI, about_point=base_line.get_start()),\n",
      "            run_time=3\n",
      "        )\n",
      "        self.play(\n",
      "            flip_group.animate.shift(LEFT),\n",
      "            base_label.animate.shift(LEFT*2),\n",
      "            run_time=2\n",
      "        )\n",
      "        self.wait(10)\n",
      "\n",
      "        # Highlight parallelogram (10 seconds)\n",
      "        parallelogram = Polygon(\n",
      "            LEFT * 3, RIGHT * 1, \n",
      "            RIGHT * 1 + UP * 3,\n",
      "            LEFT * 3 + UP * 3,\n",
      "            color=GREEN, fill_opacity=0.3\n",
      "        )\n",
      "        rect_label = Text(\"Parallelogram\", font_size=36).to_edge(UP)\n",
      "\n",
      "        self.play(\n",
      "            FadeIn(parallelogram.set_stroke(width=0)),\n",
      "            FadeOut(flip_group),\n",
      "            run_time=2\n",
      "        )\n",
      "        self.play(Write(rect_label), run_time=1)\n",
      "        self.play(\n",
      "            parallelogram.animate.set_fill(GREEN, opacity=0.5),\n",
      "            run_time=1.5\n",
      "        )\n",
      "        self.wait(5.5)\n",
      "\n",
      "        # Show area formula (20 seconds)\n",
      "        formula = MathTex(\n",
      "            \"\\\\text{Area of Parallelogram} = b \\\\times h\", \n",
      "            font_size=42\n",
      "        ).to_edge(UP)\n",
      "        triangle_formula = MathTex(\n",
      "            \"\\\\text{Area of Triangle} = {1 \\\\over 2} \\\\times b \\\\times h\", \n",
      "            font_size=42\n",
      "        ).to_edge(DOWN)\n",
      "\n",
      "        self.play(\n",
      "            ReplacementTransform(rect_label, formula),\n",
      "            run_time=2\n",
      "        )\n",
      "        self.wait(2)\n",
      "        self.play(Write(triangle_formula), run_time=3)\n",
      "        self.play(\n",
      "            FadeIn(SurroundingRectangle(\n",
      "                triangle_formula, color=GOLD, buff=0.2\n",
      "            )),\n",
      "            run_time=2\n",
      "        )\n",
      "        self.wait(11)\n",
      "```\n"
     ]
    }
   ],
   "source": [
    "code = response.choices[0].message.content\n",
    "\n",
    "print(code)"
   ]
  },
  {
   "cell_type": "code",
   "execution_count": 36,
   "id": "3c70d773",
   "metadata": {},
   "outputs": [],
   "source": [
    "transcript_agent_system_prompt = \"\"\"\n",
    "You are a professional transcript writer for a educational manim script in python, \n",
    "your task is to understand the manim code block by block and then write dialogues that's \n",
    "best suitable like a lecture for that education video standpoint, the manim code also contains information \n",
    "regarding the time each code segments or animation takes so use that information to fill the dialogue in suitable size that fits within the estimated time\n",
    "\n",
    "Now give the output exactly as the below JSON format only, with no explanation or other things only the trancsript as JSON\n",
    "\n",
    "```json\n",
    "[\n",
    "    {'dialogue': '<the dialogue for the scene goes here...>', 'duration': <duration in seconds>},\n",
    "    {'dialogue': '<the dialogue for the scene goes here...>', 'duration': <duration in seconds>},\n",
    "    {'dialogue': '<the dialogue for the scene goes here...>', 'duration': <duration in seconds>},\n",
    "    {'dialogue': '', 'duration': <duration in seconds>}, # also to note that the `''` means an pause block for `duration` seconds means this part is just a silenced for `duration` seconds (only if the manim code has a pause block or wait/sleep time related thing)\n",
    "    {'dialogue': '<the dialogue for the scene goes here...>', 'duration': <duration in seconds>},\n",
    "    ...\n",
    "    \n",
    "]\n",
    "```\n",
    "\"\"\"\n",
    "\n",
    "transcript_agent = OpenAI(api_key=openrouter_api_key, base_url=openrouter_base_url)"
   ]
  },
  {
   "cell_type": "code",
   "execution_count": null,
   "id": "979a3212",
   "metadata": {},
   "outputs": [],
   "source": [
    "response = transcript_agent.chat.completions.create(\n",
    "    messages=[\n",
    "        {'role': 'system', 'content': transcript_agent_system_prompt},\n",
    "        {'role': 'user', 'content': code},\n",
    "    ],\n",
    "    model=deepseek_model_name\n",
    ")"
   ]
  },
  {
   "cell_type": "code",
   "execution_count": 29,
   "id": "7482b456",
   "metadata": {},
   "outputs": [
    {
     "name": "stdout",
     "output_type": "stream",
     "text": [
      "[\n",
      "    {\"dialogue\": \"Area of a Triangle\", \"duration\": 3},\n",
      "    {\"dialogue\": \"Let's draw a triangle with base and height.\", \"duration\": 3},\n",
      "    {\"dialogue\": \"Here is the base, labeled b.\", \"duration\": 1.5},\n",
      "    {\"dialogue\": \"And the height, perpendicular to the base, labeled h.\", \"duration\": 1.5},\n",
      "    {\"dialogue\": \"Now, how does this relate to a parallelogram?\", \"duration\": 4},\n",
      "    {\"dialogue\": \"We duplicate the triangle and rotate it 180 degrees around the base point.\", \"duration\": 3},\n",
      "    {\"dialogue\": \"Then shift the triangles to form a parallelogram.\", \"duration\": 2},\n",
      "    {\"dialogue\": \"Observe: this parallelogram has base b and height h, so its area is b × h. Since it comprises two identical triangles, each triangle's area is half of that.\", \"duration\": 10},\n",
      "    {\"dialogue\": \"Now we highlight this parallelogram for clarity.\", \"duration\": 2},\n",
      "    {\"dialogue\": \"Labeling it as a parallelogram.\", \"duration\": 1},\n",
      "    {\"dialogue\": \"Filling it to emphasize the shape.\", \"duration\": 1.5},\n",
      "    {\"dialogue\": \"Thus, the parallelogram area is b × h, and the triangle is half that area.\", \"duration\": 5.5},\n",
      "    {\"dialogue\": \"The area of the parallelogram is b times h.\", \"duration\": 2},\n",
      "    {\"dialogue\": \"Therefore, a single triangle has half this area.\", \"duration\": 2},\n",
      "    {\"dialogue\": \"Writing the formula: area of triangle equals one-half times base times height.\", \"duration\": 3},\n",
      "    {\"dialogue\": \"This gives us the fundamental formula.\", \"duration\": 2},\n",
      "    {\"dialogue\": \"In summary: by transforming one triangle into a parallelogram, we derived the triangle area formula as half the product of its base and height.\", \"duration\": 11}\n",
      "]\n"
     ]
    }
   ],
   "source": [
    "transcript = response.choices[0].message.content\n",
    "\n",
    "print(transcript)"
   ]
  },
  {
   "cell_type": "code",
   "execution_count": null,
   "id": "28714bc3",
   "metadata": {},
   "outputs": [],
   "source": []
  },
  {
   "cell_type": "code",
   "execution_count": 33,
   "id": "e37ecc86",
   "metadata": {},
   "outputs": [
    {
     "name": "stderr",
     "output_type": "stream",
     "text": [
      "d:\\College\\Educational Video Generator\\.venv\\Lib\\site-packages\\pydub\\utils.py:170: RuntimeWarning: Couldn't find ffmpeg or avconv - defaulting to ffmpeg, but may not work\n",
      "  warn(\"Couldn't find ffmpeg or avconv - defaulting to ffmpeg, but may not work\", RuntimeWarning)\n"
     ]
    }
   ],
   "source": [
    "import pyttsx3\n",
    "import tempfile\n",
    "import os\n",
    "from pydub import AudioSegment\n",
    "\n",
    "def transcript_to_audio(transcript, output_file=\"final_audio.mp3\", voice=None, rate=180):\n",
    "    \"\"\"\n",
    "    Generate a merged audio file from transcript JSON using pyttsx3.\n",
    "    transcript format:\n",
    "    [\n",
    "        {\"dialogue\": \"some text\", \"duration\": 3.5},\n",
    "        {\"dialogue\": \"\", \"duration\": 1.0},  # silent pause\n",
    "        ...\n",
    "    ]\n",
    "    \"\"\"\n",
    "    engine = pyttsx3.init()\n",
    "    if voice:\n",
    "        engine.setProperty(\"voice\", voice)\n",
    "    engine.setProperty(\"rate\", rate)\n",
    "\n",
    "    final_audio = AudioSegment.silent(duration=0)\n",
    "\n",
    "    for i, seg in enumerate(transcript):\n",
    "        target_duration = int(seg[\"duration\"] * 1000)  # sec → ms\n",
    "\n",
    "        if seg[\"dialogue\"].strip():\n",
    "            # Save TTS to a temporary file\n",
    "            with tempfile.NamedTemporaryFile(delete=False, suffix=\".wav\") as tf:\n",
    "                tmp_path = tf.name\n",
    "            engine.save_to_file(seg[\"dialogue\"], tmp_path)\n",
    "            engine.runAndWait()\n",
    "\n",
    "            # Load into pydub\n",
    "            speech = AudioSegment.from_file(tmp_path, format=\"wav\")\n",
    "            os.remove(tmp_path)\n",
    "\n",
    "            # Adjust to match target duration\n",
    "            speech_duration = len(speech)\n",
    "            if speech_duration < target_duration:\n",
    "                padding = AudioSegment.silent(duration=target_duration - speech_duration)\n",
    "                speech += padding\n",
    "            else:\n",
    "                speech = speech[:target_duration]\n",
    "\n",
    "            final_audio += speech\n",
    "        else:\n",
    "            # Silent pause only\n",
    "            final_audio += AudioSegment.silent(duration=target_duration)\n",
    "\n",
    "    # Export final merged audio\n",
    "    final_audio.export(output_file, format=\"mp3\")\n",
    "    return output_file"
   ]
  },
  {
   "cell_type": "code",
   "execution_count": null,
   "id": "8fc4e61a",
   "metadata": {},
   "outputs": [],
   "source": []
  }
 ],
 "metadata": {
  "kernelspec": {
   "display_name": ".venv",
   "language": "python",
   "name": "python3"
  },
  "language_info": {
   "codemirror_mode": {
    "name": "ipython",
    "version": 3
   },
   "file_extension": ".py",
   "mimetype": "text/x-python",
   "name": "python",
   "nbconvert_exporter": "python",
   "pygments_lexer": "ipython3",
   "version": "3.11.4"
  }
 },
 "nbformat": 4,
 "nbformat_minor": 5
}
